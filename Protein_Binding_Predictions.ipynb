{
  "cells": [
    {
      "cell_type": "markdown",
      "metadata": {
        "id": "view-in-github",
        "colab_type": "text"
      },
      "source": [
        "<a href=\"https://colab.research.google.com/github/noahdreifus/BME3990/blob/main/Protein_Binding_Predictions.ipynb\" target=\"_parent\"><img src=\"https://colab.research.google.com/assets/colab-badge.svg\" alt=\"Open In Colab\"/></a>"
      ]
    },
    {
      "cell_type": "markdown",
      "metadata": {
        "id": "QKwtONKGYhQB"
      },
      "source": [
        "Import libraries"
      ]
    },
    {
      "cell_type": "code",
      "execution_count": 10,
      "metadata": {
        "id": "f8yWodE3YVN8"
      },
      "outputs": [],
      "source": [
        "import numpy as np\n",
        "from scipy.optimize import linear_sum_assignment\n",
        "from transformers import AutoTokenizer, EsmForMaskedLM\n",
        "import torch"
      ]
    },
    {
      "cell_type": "markdown",
      "metadata": {
        "id": "G8VkR1g7Yz9J"
      },
      "source": [
        "Initialize the tokenizer and model"
      ]
    },
    {
      "cell_type": "code",
      "execution_count": 11,
      "metadata": {
        "colab": {
          "base_uri": "https://localhost:8080/"
        },
        "id": "BhYxndtIY3sd",
        "outputId": "b943a513-0e17-4975-8547-8f246e42b335"
      },
      "outputs": [
        {
          "output_type": "stream",
          "name": "stderr",
          "text": [
            "/usr/local/lib/python3.10/dist-packages/transformers/tokenization_utils_base.py:1601: FutureWarning:\n",
            "\n",
            "`clean_up_tokenization_spaces` was not set. It will be set to `True` by default. This behavior will be depracted in transformers v4.45, and will be then set to `False` by default. For more details check this issue: https://github.com/huggingface/transformers/issues/31884\n",
            "\n"
          ]
        }
      ],
      "source": [
        "tokenizer = AutoTokenizer.from_pretrained(\"facebook/esm2_t6_8M_UR50D\")\n",
        "model = EsmForMaskedLM.from_pretrained(\"facebook/esm2_t6_8M_UR50D\")\n"
      ]
    },
    {
      "cell_type": "markdown",
      "metadata": {
        "id": "8SobWIN2Y9Ef"
      },
      "source": [
        "Setting up GPU if its available"
      ]
    },
    {
      "cell_type": "code",
      "execution_count": 12,
      "metadata": {
        "id": "YZdEGwTaYtVM"
      },
      "outputs": [],
      "source": [
        "device = torch.device(\"cuda\" if torch.cuda.is_available() else \"cpu\")\n",
        "model = model.to(device)\n"
      ]
    },
    {
      "cell_type": "markdown",
      "metadata": {
        "id": "doicSbngaGcg"
      },
      "source": [
        "Protein sequences to compare to"
      ]
    },
    {
      "cell_type": "code",
      "execution_count": 13,
      "metadata": {
        "id": "CjESo1llY-3v"
      },
      "outputs": [],
      "source": [
        "all_proteins = ['CPPLENIDISGVDGDSATISFEPCREPVDYVVLHYGRAGDPGDWKTYFLPPGDTSFTLTGLEPGGWYRVELWCWRPGRCCEPQTEYFEV',\n",
        "                'SEEEEERERALKEIIEETRRELKAAKAKHGKVVVVLIMASSTLEPEFILELSKALIKEMKSLFPNVVLIIVVVGLAPASLLARIRDVSLELAKYAKSLGIKVIVIVGNENEAVFVPAFEALGVEVIVDRTIIEIAAEELGLSEEEVLARFAAAAELLDELFAADPSLRERYARLDVAGATELLLERLRELFGAKVERHERLITVEVERVLTPDERRRVTAILLTPEAAREVVERLVDLVVDLILEKIAEGHNVLVLVFTPTIALAREVAALFEERRPLLEEAGAAVIIRLVARDPDTFLI',\n",
        "                'SNKTQLGSSG/ELEELLAKKEELLKKLYKELLKKGNVLVDTEYLKTLTEEELKEISKAYISEEEGMIILEFKGTYNGYLVIKHKDVETSEEVREEQKKLAEELKKKLEALGAEVREIEVKVKEEVKTEKEGNITKTTLTLEVEIDGEKVTLKLTEVEVEL',\n",
        "                'AATAAALEHLEAAAAALKELAALVATEAADAAALKAKAEELAAKVREHLRAARAATGDTSLTDEDIDAFIQRILDAVDDAEAKALYEELEAAIAAFRAAQEAAA',\n",
        "                'GKLNIKVTFLSSGKEEKLAALKAHVDALVASIDTKASGAPPLKVEVKESESKETREIDGKTYEYGFTTVTYSFEGTNDILNQLANDIVTHISNTLKDLLIEIDIAATSDGDLNLTINITVNGVDTVILLNVSLTAGTNVNLTINITVTGATVTVHIIVSLTTTSAGSATVTINATAGAGATLNITLMGVFTNTAVKDVTVNVTTTATSGTVTVTLGPVTQASAAEMAAGVAAAREAAREEALREVARLTE',\n",
        "                'MTEEELGWKIEVEEIDGATVVEIRDEKKGNRLVRVVSNGKSMEEVKELAKRIAEKYIIEEGYDGVAVIVLPNGTVFVLRINTKTGEVKFEVLEIPDPDAVKSIELETDESGFALAIVETNDEIGVLAVLINNGKIVALAVIVKTEEQLKLVLLLIEAVKVLSKLATINRFLIVRSPSGMWHIYLEAEWPDGKTKFVYEKTVPEEDFGEAVKEIIEELLELVKEYAKKYPEAAPYAEKLEEILEKVKELIE']"
      ]
    },
    {
      "cell_type": "markdown",
      "metadata": {
        "id": "B-p7jTpLaIK8"
      },
      "source": [
        "MLM Loss function"
      ]
    },
    {
      "cell_type": "code",
      "execution_count": 14,
      "metadata": {
        "id": "gRWcax0kaEO8"
      },
      "outputs": [],
      "source": [
        "BATCH_SIZE = 2\n",
        "NUM_MASKS = 10\n",
        "P_MASK = 0.15\n",
        "\n",
        "# Function to compute MLM loss for a batch of protein pairs\n",
        "def compute_mlm_loss_batch(pairs):\n",
        "    avg_losses = []\n",
        "    for _ in range(NUM_MASKS):\n",
        "        # Tokenize the concatenated protein pairs\n",
        "        inputs = tokenizer(pairs, return_tensors=\"pt\", truncation=True, padding=True, max_length=1022)\n",
        "\n",
        "        # Move input tensors to GPU if available\n",
        "        inputs = {k: v.to(device) for k, v in inputs.items()}\n",
        "\n",
        "        # Get the mask token ID\n",
        "        mask_token_id = tokenizer.mask_token_id\n",
        "\n",
        "        # Clone input IDs for labels\n",
        "        labels = inputs[\"input_ids\"].clone()\n",
        "\n",
        "        # Randomly mask 15% of the residues for each sequence in the batch\n",
        "        for idx in range(inputs[\"input_ids\"].shape[0]):\n",
        "            mask_indices = np.random.choice(inputs[\"input_ids\"].shape[1], size=int(P_MASK * inputs[\"input_ids\"].shape[1]), replace=False)\n",
        "            inputs[\"input_ids\"][idx, mask_indices] = mask_token_id\n",
        "            labels[idx, [i for i in range(inputs[\"input_ids\"].shape[1]) if i not in mask_indices]] = -100\n",
        "\n",
        "        # Compute the MLM loss\n",
        "        outputs = model(**inputs, labels=labels)\n",
        "        avg_losses.append(outputs.loss.item())\n",
        "\n",
        "    # Return the average loss for the batch\n",
        "    return sum(avg_losses) / NUM_MASKS\n"
      ]
    },
    {
      "cell_type": "markdown",
      "metadata": {
        "id": "rW6Yl1xzaRn4"
      },
      "source": [
        "Constructing Loss Matrix"
      ]
    },
    {
      "cell_type": "code",
      "execution_count": 15,
      "metadata": {
        "id": "o-c0l7FHaMf-"
      },
      "outputs": [],
      "source": [
        "# Compute loss matrix\n",
        "loss_matrix = np.zeros((len(all_proteins), len(all_proteins)))\n",
        "\n",
        "for i in range(len(all_proteins)):\n",
        "    for j in range(i+1, len(all_proteins), BATCH_SIZE):  # to avoid self-pairing and use batches\n",
        "        pairs = [all_proteins[i] + all_proteins[k] for k in range(j, min(j+BATCH_SIZE, len(all_proteins)))]\n",
        "        batch_loss = compute_mlm_loss_batch(pairs)\n",
        "        for k in range(len(pairs)):\n",
        "            loss_matrix[i, j+k] = batch_loss\n",
        "            loss_matrix[j+k, i] = batch_loss  # the matrix is symmetric\n",
        "\n",
        "# Set the diagonal of the loss matrix to a large value to prevent self-pairings\n",
        "np.fill_diagonal(loss_matrix, np.inf)\n"
      ]
    },
    {
      "cell_type": "markdown",
      "metadata": {
        "id": "VVRCNwkKabHa"
      },
      "source": [
        "Finding optimal pairs"
      ]
    },
    {
      "cell_type": "code",
      "execution_count": 16,
      "metadata": {
        "colab": {
          "base_uri": "https://localhost:8080/"
        },
        "id": "PWDtwhITaWsO",
        "outputId": "f4606ea1-46f0-4567-f585-74f054dce1c9"
      },
      "outputs": [
        {
          "output_type": "stream",
          "name": "stdout",
          "text": [
            "[(0, 5), (1, 2), (2, 1), (3, 4), (4, 3), (5, 0)]\n"
          ]
        }
      ],
      "source": [
        "# Use the linear assignment problem to find the optimal pairing based on MLM loss\n",
        "rows, cols = linear_sum_assignment(loss_matrix)\n",
        "optimal_pairs = list(zip(rows, cols))\n",
        "\n",
        "print(optimal_pairs)\n"
      ]
    },
    {
      "cell_type": "markdown",
      "metadata": {
        "id": "fFWnb5GebH39"
      },
      "source": [
        "Choosing a protein of interest, then computing the binding sites of the designed protein"
      ]
    },
    {
      "cell_type": "code",
      "execution_count": 18,
      "metadata": {
        "colab": {
          "base_uri": "https://localhost:8080/"
        },
        "id": "zGWr_sj1aebF",
        "outputId": "d3c75ef6-5efc-4322-a098-8ac9e5dab3b3"
      },
      "outputs": [
        {
          "output_type": "stream",
          "name": "stdout",
          "text": [
            "Ranking of Potential Binders:\n",
            "1. SEEEEERERALKEIIEETRRELKAAKAKHGKVVVVLIMASSTLEPEFILELSKALIKEMKSLFPNVVLIIVVVGLAPASLLARIRDVSLELAKYAKSLGIKVIVIVGNENEAVFVPAFEALGVEVIVDRTIIEIAAEELGLSEEEVLARFAAAAELLDELFAADPSLRERYARLDVAGATELLLERLRELFGAKVERHERLITVEVERVLTPDERRRVTAILLTPEAAREVVERLVDLVVDLILEKIAEGHNVLVLVFTPTIALAREVAALFEERRPLLEEAGAAVIIRLVARDPDTFLI - MLM Loss: 5.955459912618001\n",
            "2. MTEEELGWKIEVEEIDGATVVEIRDEKKGNRLVRVVSNGKSMEEVKELAKRIAEKYIIEEGYDGVAVIVLPNGTVFVLRINTKTGEVKFEVLEIPDPDAVKSIELETDESGFALAIVETNDEIGVLAVLINNGKIVALAVIVKTEEQLKLVLLLIEAVKVLSKLATINRFLIVRSPSGMWHIYLEAEWPDGKTKFVYEKTVPEEDFGEAVKEIIEELLELVKEYAKKYPEAAPYAEKLEEILEKVKELIE - MLM Loss: 6.674283981323242\n",
            "3. GKLNIKVTFLSSGKEEKLAALKAHVDALVASIDTKASGAPPLKVEVKESESKETREIDGKTYEYGFTTVTYSFEGTNDILNQLANDIVTHISNTLKDLLIEIDIAATSDGDLNLTINITVNGVDTVILLNVSLTAGTNVNLTINITVTGATVTVHIIVSLTTTSAGSATVTINATAGAGATLNITLMGVFTNTAVKDVTVNVTTTATSGTVTVTLGPVTQASAAEMAAGVAAAREAAREEALREVARLTE - MLM Loss: 6.724404652913411\n",
            "4. SNKTQLGSSG/ELEELLAKKEELLKKLYKELLKKGNVLVDTEYLKTLTEEELKEISKAYISEEEGMIILEFKGTYNGYLVIKHKDVETSEEVREEQKKLAEELKKKLEALGAEVREIEVKVKEEVKTEKEGNITKTTLTLEVEIDGEKVTLKLTEVEVEL - MLM Loss: 8.148154258728027\n",
            "5. AATAAALEHLEAAAAALKELAALVATEAADAAALKAKAEELAAKVREHLRAARAATGDTSLTDEDIDAFIQRILDAVDDAEAKALYEELEAAIAAFRAAQEAAA - MLM Loss: 9.251155535380045\n",
            "6. CPPLENIDISGVDGDSATISFEPCREPVDYVVLHYGRAGDPGDWKTYFLPPGDTSFTLTGLEPGGWYRVELWCWRPGRCCEPQTEYFEV - MLM Loss: 9.554889361063639\n"
          ]
        }
      ],
      "source": [
        "from transformers import AutoModelForMaskedLM, AutoTokenizer\n",
        "import torch\n",
        "\n",
        "# Load the base model and tokenizer\n",
        "base_model_path = \"facebook/esm2_t12_35M_UR50D\"\n",
        "model = AutoModelForMaskedLM.from_pretrained(base_model_path)\n",
        "tokenizer = AutoTokenizer.from_pretrained(base_model_path)\n",
        "\n",
        "# Ensure the model is in evaluation mode\n",
        "model.eval()\n",
        "\n",
        "# Define the protein of interest and its potential binders\n",
        "protein_of_interest = \"LEEKKVCQGTSNKLTQLGTFEDHFLSLQRMFNNCEVVLGNLEITYVQRNYDLSFLKTIQEVAGYVLIALNTVERIPLENLQIIRGNMYYENSYALAVLSNYDANKTGLKELPMRNLQEILHGAVRFSNNPALCNVESIQWRDIVSSDFLSNMSMDFQNHLGSCQKCDPSCPNGSCWGAGEENCQKLTKIICAQQCSGRCRGKSPSDCCHNQCAAGCTGPRESDCLVCRKFRDEATCKDTCPPLMLYNPTTYQMDVNPEGKYSFGATCVKKCPRNYVVTDHGSCVRACGADSYEMEEDGVRKCKKCEGPCRKVCNGIGIGEFKDSLSINATNIKHFKNCTSISGDLHILPVAFRGDSFTHTPPLDPQELDILKTVKEITGFLLIQAWPENRTDLHAFENLEIIRGRTKQHGQFSLAVVSLNITSLGLRSLKEISDGDVIISGNKNLCYANTINWKKLFGTSGQKTKIISNRGENSCKATGQVCHALCSPEGCWGPEPRDCVSCRNVSRGRECVDKCNLLEGEPREFVENSECIQCHPECLPQAMNITCTGRGPDNCIQCAHYIDGPHCVKTCPAGVMGENNTLVWKYADAGHVCHLCHPNCTYGCTGPGLEGCPTNGPKIPS\"\n",
        "potential_binders = ['CPPLENIDISGVDGDSATISFEPCREPVDYVVLHYGRAGDPGDWKTYFLPPGDTSFTLTGLEPGGWYRVELWCWRPGRCCEPQTEYFEV',\n",
        "                'SEEEEERERALKEIIEETRRELKAAKAKHGKVVVVLIMASSTLEPEFILELSKALIKEMKSLFPNVVLIIVVVGLAPASLLARIRDVSLELAKYAKSLGIKVIVIVGNENEAVFVPAFEALGVEVIVDRTIIEIAAEELGLSEEEVLARFAAAAELLDELFAADPSLRERYARLDVAGATELLLERLRELFGAKVERHERLITVEVERVLTPDERRRVTAILLTPEAAREVVERLVDLVVDLILEKIAEGHNVLVLVFTPTIALAREVAALFEERRPLLEEAGAAVIIRLVARDPDTFLI',\n",
        "                'SNKTQLGSSG/ELEELLAKKEELLKKLYKELLKKGNVLVDTEYLKTLTEEELKEISKAYISEEEGMIILEFKGTYNGYLVIKHKDVETSEEVREEQKKLAEELKKKLEALGAEVREIEVKVKEEVKTEKEGNITKTTLTLEVEIDGEKVTLKLTEVEVEL',\n",
        "                'AATAAALEHLEAAAAALKELAALVATEAADAAALKAKAEELAAKVREHLRAARAATGDTSLTDEDIDAFIQRILDAVDDAEAKALYEELEAAIAAFRAAQEAAA',\n",
        "                'GKLNIKVTFLSSGKEEKLAALKAHVDALVASIDTKASGAPPLKVEVKESESKETREIDGKTYEYGFTTVTYSFEGTNDILNQLANDIVTHISNTLKDLLIEIDIAATSDGDLNLTINITVNGVDTVILLNVSLTAGTNVNLTINITVTGATVTVHIIVSLTTTSAGSATVTINATAGAGATLNITLMGVFTNTAVKDVTVNVTTTATSGTVTVTLGPVTQASAAEMAAGVAAAREAAREEALREVARLTE',\n",
        "                'MTEEELGWKIEVEEIDGATVVEIRDEKKGNRLVRVVSNGKSMEEVKELAKRIAEKYIIEEGYDGVAVIVLPNGTVFVLRINTKTGEVKFEVLEIPDPDAVKSIELETDESGFALAIVETNDEIGVLAVLINNGKIVALAVIVKTEEQLKLVLLLIEAVKVLSKLATINRFLIVRSPSGMWHIYLEAEWPDGKTKFVYEKTVPEEDFGEAVKEIIEELLELVKEYAKKYPEAAPYAEKLEEILEKVKELIE'\n",
        "\n",
        "]  # Add potential binding sequences here\n",
        "\n",
        "def compute_mlm_loss(protein, binder, iterations=3):\n",
        "    total_loss = 0.0\n",
        "\n",
        "    for _ in range(iterations):\n",
        "        # Concatenate protein sequences with a separator\n",
        "        concatenated_sequence = protein + \":\" + binder\n",
        "\n",
        "        # Mask a subset of amino acids in the concatenated sequence (excluding the separator)\n",
        "        tokens = list(concatenated_sequence)\n",
        "        mask_rate = 0.15  # For instance, masking 15% of the sequence\n",
        "        num_mask = int(len(tokens) * mask_rate)\n",
        "\n",
        "        # Exclude the separator from potential mask indices\n",
        "        available_indices = [i for i, token in enumerate(tokens) if token != \":\"]\n",
        "        probs = torch.ones(len(available_indices))\n",
        "        mask_indices = torch.multinomial(probs, num_mask, replacement=False)\n",
        "\n",
        "        for idx in mask_indices:\n",
        "            tokens[available_indices[idx]] = tokenizer.mask_token\n",
        "\n",
        "        masked_sequence = \"\".join(tokens)\n",
        "        inputs = tokenizer(masked_sequence, return_tensors=\"pt\", truncation=True, max_length=1024, padding='max_length')\n",
        "\n",
        "        # Compute the MLM loss\n",
        "        with torch.no_grad():\n",
        "            outputs = model(**inputs, labels=inputs[\"input_ids\"])\n",
        "            loss = outputs.loss\n",
        "\n",
        "        total_loss += loss.item()\n",
        "\n",
        "    # Return the average loss\n",
        "    return total_loss / iterations\n",
        "\n",
        "# Compute MLM loss for each potential binder\n",
        "mlm_losses = {}\n",
        "for binder in potential_binders:\n",
        "    loss = compute_mlm_loss(protein_of_interest, binder)\n",
        "    mlm_losses[binder] = loss\n",
        "\n",
        "# Rank binders based on MLM loss\n",
        "ranked_binders = sorted(mlm_losses, key=mlm_losses.get)\n",
        "\n",
        "print(\"Ranking of Potential Binders:\")\n",
        "for idx, binder in enumerate(ranked_binders, 1):\n",
        "    print(f\"{idx}. {binder} - MLM Loss: {mlm_losses[binder]}\")\n"
      ]
    },
    {
      "cell_type": "markdown",
      "metadata": {
        "id": "4CxR9mFDcG8o"
      },
      "source": [
        "Building Protein-Protein Interaction Matrix"
      ]
    },
    {
      "cell_type": "code",
      "execution_count": 19,
      "metadata": {
        "colab": {
          "base_uri": "https://localhost:8080/",
          "height": 677,
          "referenced_widgets": [
            "e00e0989d21441f2bda15c85f5d97022",
            "71d5604a25bd425796f8f0633863e4cd",
            "e18ba12bc98d4ba6bf0ce10e91775a6c",
            "a775109b278c49ffb487cf8aaa7e7e98",
            "00b8122664ef42028e4266d1921a50de",
            "5d38d6bfa953440cb3170e1cd5fd35d9",
            "fe35e8b23bcb4a98baec16358a59c8b0"
          ]
        },
        "id": "YHdaFJ8Sb6v6",
        "outputId": "0d01bda2-70ad-4484-c449-42f87a6d320d"
      },
      "outputs": [
        {
          "output_type": "stream",
          "name": "stdout",
          "text": [
            "Maximum loss (maximum threshold for slider): 9.035540771484374\n"
          ]
        },
        {
          "output_type": "display_data",
          "data": {
            "text/plain": [
              "interactive(children=(FloatSlider(value=8.25, description='threshold', max=9.035540771484374, step=0.05), Outp…"
            ],
            "application/vnd.jupyter.widget-view+json": {
              "version_major": 2,
              "version_minor": 0,
              "model_id": "e00e0989d21441f2bda15c85f5d97022"
            }
          },
          "metadata": {}
        },
        {
          "output_type": "execute_result",
          "data": {
            "text/plain": [
              "<function __main__.plot_graph(threshold)>"
            ],
            "text/html": [
              "<div style=\"max-width:800px; border: 1px solid var(--colab-border-color);\"><style>\n",
              "      pre.function-repr-contents {\n",
              "        overflow-x: auto;\n",
              "        padding: 8px 12px;\n",
              "        max-height: 500px;\n",
              "      }\n",
              "\n",
              "      pre.function-repr-contents.function-repr-contents-collapsed {\n",
              "        cursor: pointer;\n",
              "        max-height: 100px;\n",
              "      }\n",
              "    </style>\n",
              "    <pre style=\"white-space: initial; background:\n",
              "         var(--colab-secondary-surface-color); padding: 8px 12px;\n",
              "         border-bottom: 1px solid var(--colab-border-color);\"><b>plot_graph</b><br/>def plot_graph(threshold)</pre><pre class=\"function-repr-contents function-repr-contents-collapsed\" style=\"\"><a class=\"filepath\" style=\"display:none\" href=\"#\">/content/&lt;ipython-input-19-495c46d4b249&gt;</a>&lt;no docstring&gt;</pre></div>"
            ]
          },
          "metadata": {},
          "execution_count": 19
        }
      ],
      "source": [
        "import networkx as nx\n",
        "import numpy as np\n",
        "import torch\n",
        "from transformers import AutoTokenizer, AutoModelForMaskedLM\n",
        "import plotly.graph_objects as go\n",
        "from ipywidgets import interact\n",
        "from ipywidgets import widgets\n",
        "\n",
        "# Check if CUDA is available and set the default device accordingly\n",
        "device = torch.device(\"cuda\" if torch.cuda.is_available() else \"cpu\")\n",
        "\n",
        "# Load the pretrained (or fine-tuned) ESM-2 model and tokenizer\n",
        "model_name = \"facebook/esm2_t6_8M_UR50D\"  # You can change this to your fine-tuned model\n",
        "tokenizer = AutoTokenizer.from_pretrained(model_name)\n",
        "model = AutoModelForMaskedLM.from_pretrained(model_name)\n",
        "\n",
        "# Send the model to the device (GPU or CPU)\n",
        "model.to(device)\n",
        "\n",
        "# Ensure the model is in evaluation mode\n",
        "model.eval()\n",
        "\n",
        "# Define Protein Sequences (Replace with your list)\n",
        "all_proteins = ['CPPLENIDISGVDGDSATISFEPCREPVDYVVLHYGRAGDPGDWKTYFLPPGDTSFTLTGLEPGGWYRVELWCWRPGRCCEPQTEYFEV',\n",
        "                'SEEEEERERALKEIIEETRRELKAAKAKHGKVVVVLIMASSTLEPEFILELSKALIKEMKSLFPNVVLIIVVVGLAPASLLARIRDVSLELAKYAKSLGIKVIVIVGNENEAVFVPAFEALGVEVIVDRTIIEIAAEELGLSEEEVLARFAAAAELLDELFAADPSLRERYARLDVAGATELLLERLRELFGAKVERHERLITVEVERVLTPDERRRVTAILLTPEAAREVVERLVDLVVDLILEKIAEGHNVLVLVFTPTIALAREVAALFEERRPLLEEAGAAVIIRLVARDPDTFLI',\n",
        "                'SNKTQLGSSG/ELEELLAKKEELLKKLYKELLKKGNVLVDTEYLKTLTEEELKEISKAYISEEEGMIILEFKGTYNGYLVIKHKDVETSEEVREEQKKLAEELKKKLEALGAEVREIEVKVKEEVKTEKEGNITKTTLTLEVEIDGEKVTLKLTEVEVEL',\n",
        "                'AATAAALEHLEAAAAALKELAALVATEAADAAALKAKAEELAAKVREHLRAARAATGDTSLTDEDIDAFIQRILDAVDDAEAKALYEELEAAIAAFRAAQEAAA',\n",
        "                'GKLNIKVTFLSSGKEEKLAALKAHVDALVASIDTKASGAPPLKVEVKESESKETREIDGKTYEYGFTTVTYSFEGTNDILNQLANDIVTHISNTLKDLLIEIDIAATSDGDLNLTINITVNGVDTVILLNVSLTAGTNVNLTINITVTGATVTVHIIVSLTTTSAGSATVTINATAGAGATLNITLMGVFTNTAVKDVTVNVTTTATSGTVTVTLGPVTQASAAEMAAGVAAAREAAREEALREVARLTE',\n",
        "                'MTEEELGWKIEVEEIDGATVVEIRDEKKGNRLVRVVSNGKSMEEVKELAKRIAEKYIIEEGYDGVAVIVLPNGTVFVLRINTKTGEVKFEVLEIPDPDAVKSIELETDESGFALAIVETNDEIGVLAVLINNGKIVALAVIVKTEEQLKLVLLLIEAVKVLSKLATINRFLIVRSPSGMWHIYLEAEWPDGKTKFVYEKTVPEEDFGEAVKEIIEELLELVKEYAKKYPEAAPYAEKLEEILEKVKELIE']\n",
        "\n",
        "def compute_average_mlm_loss(protein1, protein2, iterations=10):\n",
        "    total_loss = 0.0\n",
        "    connector = \"G\" * 25  # Connector sequence of G's\n",
        "    for _ in range(iterations):\n",
        "        concatenated_sequence = protein1 + connector + protein2\n",
        "        inputs = tokenizer(concatenated_sequence, return_tensors=\"pt\", padding=True, truncation=True, max_length=1024)\n",
        "\n",
        "        mask_prob = 0.55\n",
        "        mask_indices = torch.rand(inputs[\"input_ids\"].shape, device=device) < mask_prob\n",
        "\n",
        "        # Locate the positions of the connector 'G's and set their mask indices to False\n",
        "        connector_indices = tokenizer.encode(connector, add_special_tokens=False)\n",
        "        connector_length = len(connector_indices)\n",
        "        start_connector = len(tokenizer.encode(protein1, add_special_tokens=False))\n",
        "        end_connector = start_connector + connector_length\n",
        "\n",
        "        # Avoid masking the connector 'G's\n",
        "        mask_indices[0, start_connector:end_connector] = False\n",
        "\n",
        "        # Apply the mask to the input IDs\n",
        "        inputs[\"input_ids\"][mask_indices] = tokenizer.mask_token_id\n",
        "        inputs = {k: v.to(device) for k, v in inputs.items()}  # Send inputs to the device\n",
        "\n",
        "        with torch.no_grad():\n",
        "            outputs = model(**inputs, labels=inputs[\"input_ids\"])\n",
        "\n",
        "        loss = outputs.loss\n",
        "        total_loss += loss.item()\n",
        "\n",
        "    return total_loss / iterations\n",
        "\n",
        "# Compute all average losses to determine the maximum threshold for the slider\n",
        "all_losses = []\n",
        "for i, protein1 in enumerate(all_proteins):\n",
        "    for j, protein2 in enumerate(all_proteins[i+1:], start=i+1):\n",
        "        avg_loss = compute_average_mlm_loss(protein1, protein2)\n",
        "        all_losses.append(avg_loss)\n",
        "\n",
        "# Set the maximum threshold to the maximum loss computed\n",
        "max_threshold = max(all_losses)\n",
        "print(f\"Maximum loss (maximum threshold for slider): {max_threshold}\")\n",
        "\n",
        "def plot_graph(threshold):\n",
        "    G = nx.Graph()\n",
        "\n",
        "    # Add all protein nodes to the graph\n",
        "    for i, protein in enumerate(all_proteins):\n",
        "        G.add_node(f\"protein {i+1}\")\n",
        "\n",
        "    # Loop through all pairs of proteins and calculate average MLM loss\n",
        "    loss_idx = 0  # Index to keep track of the position in the all_losses list\n",
        "    for i, protein1 in enumerate(all_proteins):\n",
        "        for j, protein2 in enumerate(all_proteins[i+1:], start=i+1):\n",
        "            avg_loss = all_losses[loss_idx]\n",
        "            loss_idx += 1\n",
        "\n",
        "            # Add an edge if the loss is below the threshold\n",
        "            if avg_loss < threshold:\n",
        "                G.add_edge(f\"protein {i+1}\", f\"protein {j+1}\", weight=round(avg_loss, 3))\n",
        "\n",
        "    # 3D Network Plot\n",
        "    # Adjust the k parameter to bring nodes closer. This might require some experimentation to find the right value.\n",
        "    k_value = 2  # Lower value will bring nodes closer together\n",
        "    pos = nx.spring_layout(G, dim=3, seed=42, k=k_value)\n",
        "\n",
        "    edge_x = []\n",
        "    edge_y = []\n",
        "    edge_z = []\n",
        "    for edge in G.edges():\n",
        "        x0, y0, z0 = pos[edge[0]]\n",
        "        x1, y1, z1 = pos[edge[1]]\n",
        "        edge_x.extend([x0, x1, None])\n",
        "        edge_y.extend([y0, y1, None])\n",
        "        edge_z.extend([z0, z1, None])\n",
        "\n",
        "    edge_trace = go.Scatter3d(x=edge_x, y=edge_y, z=edge_z, mode='lines', line=dict(width=0.5, color='grey'))\n",
        "\n",
        "    node_x = []\n",
        "    node_y = []\n",
        "    node_z = []\n",
        "    node_text = []\n",
        "    for node in G.nodes():\n",
        "        x, y, z = pos[node]\n",
        "        node_x.append(x)\n",
        "        node_y.append(y)\n",
        "        node_z.append(z)\n",
        "        node_text.append(node)\n",
        "\n",
        "    node_trace = go.Scatter3d(x=node_x, y=node_y, z=node_z, mode='markers', marker=dict(size=5), hoverinfo='text', hovertext=node_text)\n",
        "\n",
        "    layout = go.Layout(title='Protein Interaction Graph', title_x=0.5, scene=dict(xaxis=dict(showbackground=False), yaxis=dict(showbackground=False), zaxis=dict(showbackground=False)))\n",
        "\n",
        "    fig = go.Figure(data=[edge_trace, node_trace], layout=layout)\n",
        "    fig.show()\n",
        "\n",
        "# Create an interactive slider for the threshold value with a default of 8.50\n",
        "interact(plot_graph, threshold=widgets.FloatSlider(min=0.0, max=max_threshold, step=0.05, value=8.25))\n"
      ]
    },
    {
      "cell_type": "code",
      "execution_count": null,
      "metadata": {
        "id": "pqjJNkXVcPLq"
      },
      "outputs": [],
      "source": []
    }
  ],
  "metadata": {
    "colab": {
      "provenance": [],
      "authorship_tag": "ABX9TyOJ5A3UbLyaZz1nlLAIWB5e",
      "include_colab_link": true
    },
    "kernelspec": {
      "display_name": "Python 3",
      "name": "python3"
    },
    "language_info": {
      "name": "python"
    },
    "widgets": {
      "application/vnd.jupyter.widget-state+json": {
        "e00e0989d21441f2bda15c85f5d97022": {
          "model_module": "@jupyter-widgets/controls",
          "model_name": "VBoxModel",
          "model_module_version": "1.5.0",
          "state": {
            "_dom_classes": [
              "widget-interact"
            ],
            "_model_module": "@jupyter-widgets/controls",
            "_model_module_version": "1.5.0",
            "_model_name": "VBoxModel",
            "_view_count": null,
            "_view_module": "@jupyter-widgets/controls",
            "_view_module_version": "1.5.0",
            "_view_name": "VBoxView",
            "box_style": "",
            "children": [
              "IPY_MODEL_71d5604a25bd425796f8f0633863e4cd",
              "IPY_MODEL_e18ba12bc98d4ba6bf0ce10e91775a6c"
            ],
            "layout": "IPY_MODEL_a775109b278c49ffb487cf8aaa7e7e98"
          }
        },
        "71d5604a25bd425796f8f0633863e4cd": {
          "model_module": "@jupyter-widgets/controls",
          "model_name": "FloatSliderModel",
          "model_module_version": "1.5.0",
          "state": {
            "_dom_classes": [],
            "_model_module": "@jupyter-widgets/controls",
            "_model_module_version": "1.5.0",
            "_model_name": "FloatSliderModel",
            "_view_count": null,
            "_view_module": "@jupyter-widgets/controls",
            "_view_module_version": "1.5.0",
            "_view_name": "FloatSliderView",
            "continuous_update": true,
            "description": "threshold",
            "description_tooltip": null,
            "disabled": false,
            "layout": "IPY_MODEL_00b8122664ef42028e4266d1921a50de",
            "max": 9.035540771484374,
            "min": 0,
            "orientation": "horizontal",
            "readout": true,
            "readout_format": ".2f",
            "step": 0.05,
            "style": "IPY_MODEL_5d38d6bfa953440cb3170e1cd5fd35d9",
            "value": 5.25
          }
        },
        "e18ba12bc98d4ba6bf0ce10e91775a6c": {
          "model_module": "@jupyter-widgets/output",
          "model_name": "OutputModel",
          "model_module_version": "1.0.0",
          "state": {
            "_dom_classes": [],
            "_model_module": "@jupyter-widgets/output",
            "_model_module_version": "1.0.0",
            "_model_name": "OutputModel",
            "_view_count": null,
            "_view_module": "@jupyter-widgets/output",
            "_view_module_version": "1.0.0",
            "_view_name": "OutputView",
            "layout": "IPY_MODEL_fe35e8b23bcb4a98baec16358a59c8b0",
            "msg_id": "",
            "outputs": [
              {
                "output_type": "display_data",
                "data": {
                  "text/html": "<html>\n<head><meta charset=\"utf-8\" /></head>\n<body>\n    <div>            <script src=\"https://cdnjs.cloudflare.com/ajax/libs/mathjax/2.7.5/MathJax.js?config=TeX-AMS-MML_SVG\"></script><script type=\"text/javascript\">if (window.MathJax && window.MathJax.Hub && window.MathJax.Hub.Config) {window.MathJax.Hub.Config({SVG: {font: \"STIX-Web\"}});}</script>                <script type=\"text/javascript\">window.PlotlyConfig = {MathJaxConfig: 'local'};</script>\n        <script charset=\"utf-8\" src=\"https://cdn.plot.ly/plotly-2.35.2.min.js\"></script>                <div id=\"b1d293ca-96b2-4bf0-80a5-162acb677abc\" class=\"plotly-graph-div\" style=\"height:525px; width:100%;\"></div>            <script type=\"text/javascript\">                                    window.PLOTLYENV=window.PLOTLYENV || {};                                    if (document.getElementById(\"b1d293ca-96b2-4bf0-80a5-162acb677abc\")) {                    Plotly.newPlot(                        \"b1d293ca-96b2-4bf0-80a5-162acb677abc\",                        [{\"line\":{\"color\":\"grey\",\"width\":0.5},\"mode\":\"lines\",\"x\":[],\"y\":[],\"z\":[],\"type\":\"scatter3d\"},{\"hoverinfo\":\"text\",\"hovertext\":[\"protein 1\",\"protein 2\",\"protein 3\",\"protein 4\",\"protein 5\",\"protein 6\"],\"marker\":{\"size\":5},\"mode\":\"markers\",\"x\":[0.29566486825010724,-0.051827969886533536,-0.8315006073027091,0.4514338805656646,1.0,-0.8637701716265292],\"y\":[0.9812124653436508,-0.550401662945231,0.7827678221745422,-0.6248328309157269,-0.07104874219657493,-0.5176970514606603],\"z\":[0.46181663821395774,-0.9337917990151581,-0.053613421879599575,0.868083762181925,-0.4930612368006645,0.15056605729953967],\"type\":\"scatter3d\"}],                        {\"scene\":{\"xaxis\":{\"showbackground\":false},\"yaxis\":{\"showbackground\":false},\"zaxis\":{\"showbackground\":false}},\"title\":{\"text\":\"Protein Interaction Graph\",\"x\":0.5},\"template\":{\"data\":{\"histogram2dcontour\":[{\"type\":\"histogram2dcontour\",\"colorbar\":{\"outlinewidth\":0,\"ticks\":\"\"},\"colorscale\":[[0.0,\"#0d0887\"],[0.1111111111111111,\"#46039f\"],[0.2222222222222222,\"#7201a8\"],[0.3333333333333333,\"#9c179e\"],[0.4444444444444444,\"#bd3786\"],[0.5555555555555556,\"#d8576b\"],[0.6666666666666666,\"#ed7953\"],[0.7777777777777778,\"#fb9f3a\"],[0.8888888888888888,\"#fdca26\"],[1.0,\"#f0f921\"]]}],\"choropleth\":[{\"type\":\"choropleth\",\"colorbar\":{\"outlinewidth\":0,\"ticks\":\"\"}}],\"histogram2d\":[{\"type\":\"histogram2d\",\"colorbar\":{\"outlinewidth\":0,\"ticks\":\"\"},\"colorscale\":[[0.0,\"#0d0887\"],[0.1111111111111111,\"#46039f\"],[0.2222222222222222,\"#7201a8\"],[0.3333333333333333,\"#9c179e\"],[0.4444444444444444,\"#bd3786\"],[0.5555555555555556,\"#d8576b\"],[0.6666666666666666,\"#ed7953\"],[0.7777777777777778,\"#fb9f3a\"],[0.8888888888888888,\"#fdca26\"],[1.0,\"#f0f921\"]]}],\"heatmap\":[{\"type\":\"heatmap\",\"colorbar\":{\"outlinewidth\":0,\"ticks\":\"\"},\"colorscale\":[[0.0,\"#0d0887\"],[0.1111111111111111,\"#46039f\"],[0.2222222222222222,\"#7201a8\"],[0.3333333333333333,\"#9c179e\"],[0.4444444444444444,\"#bd3786\"],[0.5555555555555556,\"#d8576b\"],[0.6666666666666666,\"#ed7953\"],[0.7777777777777778,\"#fb9f3a\"],[0.8888888888888888,\"#fdca26\"],[1.0,\"#f0f921\"]]}],\"heatmapgl\":[{\"type\":\"heatmapgl\",\"colorbar\":{\"outlinewidth\":0,\"ticks\":\"\"},\"colorscale\":[[0.0,\"#0d0887\"],[0.1111111111111111,\"#46039f\"],[0.2222222222222222,\"#7201a8\"],[0.3333333333333333,\"#9c179e\"],[0.4444444444444444,\"#bd3786\"],[0.5555555555555556,\"#d8576b\"],[0.6666666666666666,\"#ed7953\"],[0.7777777777777778,\"#fb9f3a\"],[0.8888888888888888,\"#fdca26\"],[1.0,\"#f0f921\"]]}],\"contourcarpet\":[{\"type\":\"contourcarpet\",\"colorbar\":{\"outlinewidth\":0,\"ticks\":\"\"}}],\"contour\":[{\"type\":\"contour\",\"colorbar\":{\"outlinewidth\":0,\"ticks\":\"\"},\"colorscale\":[[0.0,\"#0d0887\"],[0.1111111111111111,\"#46039f\"],[0.2222222222222222,\"#7201a8\"],[0.3333333333333333,\"#9c179e\"],[0.4444444444444444,\"#bd3786\"],[0.5555555555555556,\"#d8576b\"],[0.6666666666666666,\"#ed7953\"],[0.7777777777777778,\"#fb9f3a\"],[0.8888888888888888,\"#fdca26\"],[1.0,\"#f0f921\"]]}],\"surface\":[{\"type\":\"surface\",\"colorbar\":{\"outlinewidth\":0,\"ticks\":\"\"},\"colorscale\":[[0.0,\"#0d0887\"],[0.1111111111111111,\"#46039f\"],[0.2222222222222222,\"#7201a8\"],[0.3333333333333333,\"#9c179e\"],[0.4444444444444444,\"#bd3786\"],[0.5555555555555556,\"#d8576b\"],[0.6666666666666666,\"#ed7953\"],[0.7777777777777778,\"#fb9f3a\"],[0.8888888888888888,\"#fdca26\"],[1.0,\"#f0f921\"]]}],\"mesh3d\":[{\"type\":\"mesh3d\",\"colorbar\":{\"outlinewidth\":0,\"ticks\":\"\"}}],\"scatter\":[{\"fillpattern\":{\"fillmode\":\"overlay\",\"size\":10,\"solidity\":0.2},\"type\":\"scatter\"}],\"parcoords\":[{\"type\":\"parcoords\",\"line\":{\"colorbar\":{\"outlinewidth\":0,\"ticks\":\"\"}}}],\"scatterpolargl\":[{\"type\":\"scatterpolargl\",\"marker\":{\"colorbar\":{\"outlinewidth\":0,\"ticks\":\"\"}}}],\"bar\":[{\"error_x\":{\"color\":\"#2a3f5f\"},\"error_y\":{\"color\":\"#2a3f5f\"},\"marker\":{\"line\":{\"color\":\"#E5ECF6\",\"width\":0.5},\"pattern\":{\"fillmode\":\"overlay\",\"size\":10,\"solidity\":0.2}},\"type\":\"bar\"}],\"scattergeo\":[{\"type\":\"scattergeo\",\"marker\":{\"colorbar\":{\"outlinewidth\":0,\"ticks\":\"\"}}}],\"scatterpolar\":[{\"type\":\"scatterpolar\",\"marker\":{\"colorbar\":{\"outlinewidth\":0,\"ticks\":\"\"}}}],\"histogram\":[{\"marker\":{\"pattern\":{\"fillmode\":\"overlay\",\"size\":10,\"solidity\":0.2}},\"type\":\"histogram\"}],\"scattergl\":[{\"type\":\"scattergl\",\"marker\":{\"colorbar\":{\"outlinewidth\":0,\"ticks\":\"\"}}}],\"scatter3d\":[{\"type\":\"scatter3d\",\"line\":{\"colorbar\":{\"outlinewidth\":0,\"ticks\":\"\"}},\"marker\":{\"colorbar\":{\"outlinewidth\":0,\"ticks\":\"\"}}}],\"scattermapbox\":[{\"type\":\"scattermapbox\",\"marker\":{\"colorbar\":{\"outlinewidth\":0,\"ticks\":\"\"}}}],\"scatterternary\":[{\"type\":\"scatterternary\",\"marker\":{\"colorbar\":{\"outlinewidth\":0,\"ticks\":\"\"}}}],\"scattercarpet\":[{\"type\":\"scattercarpet\",\"marker\":{\"colorbar\":{\"outlinewidth\":0,\"ticks\":\"\"}}}],\"carpet\":[{\"aaxis\":{\"endlinecolor\":\"#2a3f5f\",\"gridcolor\":\"white\",\"linecolor\":\"white\",\"minorgridcolor\":\"white\",\"startlinecolor\":\"#2a3f5f\"},\"baxis\":{\"endlinecolor\":\"#2a3f5f\",\"gridcolor\":\"white\",\"linecolor\":\"white\",\"minorgridcolor\":\"white\",\"startlinecolor\":\"#2a3f5f\"},\"type\":\"carpet\"}],\"table\":[{\"cells\":{\"fill\":{\"color\":\"#EBF0F8\"},\"line\":{\"color\":\"white\"}},\"header\":{\"fill\":{\"color\":\"#C8D4E3\"},\"line\":{\"color\":\"white\"}},\"type\":\"table\"}],\"barpolar\":[{\"marker\":{\"line\":{\"color\":\"#E5ECF6\",\"width\":0.5},\"pattern\":{\"fillmode\":\"overlay\",\"size\":10,\"solidity\":0.2}},\"type\":\"barpolar\"}],\"pie\":[{\"automargin\":true,\"type\":\"pie\"}]},\"layout\":{\"autotypenumbers\":\"strict\",\"colorway\":[\"#636efa\",\"#EF553B\",\"#00cc96\",\"#ab63fa\",\"#FFA15A\",\"#19d3f3\",\"#FF6692\",\"#B6E880\",\"#FF97FF\",\"#FECB52\"],\"font\":{\"color\":\"#2a3f5f\"},\"hovermode\":\"closest\",\"hoverlabel\":{\"align\":\"left\"},\"paper_bgcolor\":\"white\",\"plot_bgcolor\":\"#E5ECF6\",\"polar\":{\"bgcolor\":\"#E5ECF6\",\"angularaxis\":{\"gridcolor\":\"white\",\"linecolor\":\"white\",\"ticks\":\"\"},\"radialaxis\":{\"gridcolor\":\"white\",\"linecolor\":\"white\",\"ticks\":\"\"}},\"ternary\":{\"bgcolor\":\"#E5ECF6\",\"aaxis\":{\"gridcolor\":\"white\",\"linecolor\":\"white\",\"ticks\":\"\"},\"baxis\":{\"gridcolor\":\"white\",\"linecolor\":\"white\",\"ticks\":\"\"},\"caxis\":{\"gridcolor\":\"white\",\"linecolor\":\"white\",\"ticks\":\"\"}},\"coloraxis\":{\"colorbar\":{\"outlinewidth\":0,\"ticks\":\"\"}},\"colorscale\":{\"sequential\":[[0.0,\"#0d0887\"],[0.1111111111111111,\"#46039f\"],[0.2222222222222222,\"#7201a8\"],[0.3333333333333333,\"#9c179e\"],[0.4444444444444444,\"#bd3786\"],[0.5555555555555556,\"#d8576b\"],[0.6666666666666666,\"#ed7953\"],[0.7777777777777778,\"#fb9f3a\"],[0.8888888888888888,\"#fdca26\"],[1.0,\"#f0f921\"]],\"sequentialminus\":[[0.0,\"#0d0887\"],[0.1111111111111111,\"#46039f\"],[0.2222222222222222,\"#7201a8\"],[0.3333333333333333,\"#9c179e\"],[0.4444444444444444,\"#bd3786\"],[0.5555555555555556,\"#d8576b\"],[0.6666666666666666,\"#ed7953\"],[0.7777777777777778,\"#fb9f3a\"],[0.8888888888888888,\"#fdca26\"],[1.0,\"#f0f921\"]],\"diverging\":[[0,\"#8e0152\"],[0.1,\"#c51b7d\"],[0.2,\"#de77ae\"],[0.3,\"#f1b6da\"],[0.4,\"#fde0ef\"],[0.5,\"#f7f7f7\"],[0.6,\"#e6f5d0\"],[0.7,\"#b8e186\"],[0.8,\"#7fbc41\"],[0.9,\"#4d9221\"],[1,\"#276419\"]]},\"xaxis\":{\"gridcolor\":\"white\",\"linecolor\":\"white\",\"ticks\":\"\",\"title\":{\"standoff\":15},\"zerolinecolor\":\"white\",\"automargin\":true,\"zerolinewidth\":2},\"yaxis\":{\"gridcolor\":\"white\",\"linecolor\":\"white\",\"ticks\":\"\",\"title\":{\"standoff\":15},\"zerolinecolor\":\"white\",\"automargin\":true,\"zerolinewidth\":2},\"scene\":{\"xaxis\":{\"backgroundcolor\":\"#E5ECF6\",\"gridcolor\":\"white\",\"linecolor\":\"white\",\"showbackground\":true,\"ticks\":\"\",\"zerolinecolor\":\"white\",\"gridwidth\":2},\"yaxis\":{\"backgroundcolor\":\"#E5ECF6\",\"gridcolor\":\"white\",\"linecolor\":\"white\",\"showbackground\":true,\"ticks\":\"\",\"zerolinecolor\":\"white\",\"gridwidth\":2},\"zaxis\":{\"backgroundcolor\":\"#E5ECF6\",\"gridcolor\":\"white\",\"linecolor\":\"white\",\"showbackground\":true,\"ticks\":\"\",\"zerolinecolor\":\"white\",\"gridwidth\":2}},\"shapedefaults\":{\"line\":{\"color\":\"#2a3f5f\"}},\"annotationdefaults\":{\"arrowcolor\":\"#2a3f5f\",\"arrowhead\":0,\"arrowwidth\":1},\"geo\":{\"bgcolor\":\"white\",\"landcolor\":\"#E5ECF6\",\"subunitcolor\":\"white\",\"showland\":true,\"showlakes\":true,\"lakecolor\":\"white\"},\"title\":{\"x\":0.05},\"mapbox\":{\"style\":\"light\"}}}},                        {\"responsive\": true}                    ).then(function(){\n                            \nvar gd = document.getElementById('b1d293ca-96b2-4bf0-80a5-162acb677abc');\nvar x = new MutationObserver(function (mutations, observer) {{\n        var display = window.getComputedStyle(gd).display;\n        if (!display || display === 'none') {{\n            console.log([gd, 'removed!']);\n            Plotly.purge(gd);\n            observer.disconnect();\n        }}\n}});\n\n// Listen for the removal of the full notebook cells\nvar notebookContainer = gd.closest('#notebook-container');\nif (notebookContainer) {{\n    x.observe(notebookContainer, {childList: true});\n}}\n\n// Listen for the clearing of the current output cell\nvar outputEl = gd.closest('.output');\nif (outputEl) {{\n    x.observe(outputEl, {childList: true});\n}}\n\n                        })                };                            </script>        </div>\n</body>\n</html>"
                },
                "metadata": {}
              }
            ]
          }
        },
        "a775109b278c49ffb487cf8aaa7e7e98": {
          "model_module": "@jupyter-widgets/base",
          "model_name": "LayoutModel",
          "model_module_version": "1.2.0",
          "state": {
            "_model_module": "@jupyter-widgets/base",
            "_model_module_version": "1.2.0",
            "_model_name": "LayoutModel",
            "_view_count": null,
            "_view_module": "@jupyter-widgets/base",
            "_view_module_version": "1.2.0",
            "_view_name": "LayoutView",
            "align_content": null,
            "align_items": null,
            "align_self": null,
            "border": null,
            "bottom": null,
            "display": null,
            "flex": null,
            "flex_flow": null,
            "grid_area": null,
            "grid_auto_columns": null,
            "grid_auto_flow": null,
            "grid_auto_rows": null,
            "grid_column": null,
            "grid_gap": null,
            "grid_row": null,
            "grid_template_areas": null,
            "grid_template_columns": null,
            "grid_template_rows": null,
            "height": null,
            "justify_content": null,
            "justify_items": null,
            "left": null,
            "margin": null,
            "max_height": null,
            "max_width": null,
            "min_height": null,
            "min_width": null,
            "object_fit": null,
            "object_position": null,
            "order": null,
            "overflow": null,
            "overflow_x": null,
            "overflow_y": null,
            "padding": null,
            "right": null,
            "top": null,
            "visibility": null,
            "width": null
          }
        },
        "00b8122664ef42028e4266d1921a50de": {
          "model_module": "@jupyter-widgets/base",
          "model_name": "LayoutModel",
          "model_module_version": "1.2.0",
          "state": {
            "_model_module": "@jupyter-widgets/base",
            "_model_module_version": "1.2.0",
            "_model_name": "LayoutModel",
            "_view_count": null,
            "_view_module": "@jupyter-widgets/base",
            "_view_module_version": "1.2.0",
            "_view_name": "LayoutView",
            "align_content": null,
            "align_items": null,
            "align_self": null,
            "border": null,
            "bottom": null,
            "display": null,
            "flex": null,
            "flex_flow": null,
            "grid_area": null,
            "grid_auto_columns": null,
            "grid_auto_flow": null,
            "grid_auto_rows": null,
            "grid_column": null,
            "grid_gap": null,
            "grid_row": null,
            "grid_template_areas": null,
            "grid_template_columns": null,
            "grid_template_rows": null,
            "height": null,
            "justify_content": null,
            "justify_items": null,
            "left": null,
            "margin": null,
            "max_height": null,
            "max_width": null,
            "min_height": null,
            "min_width": null,
            "object_fit": null,
            "object_position": null,
            "order": null,
            "overflow": null,
            "overflow_x": null,
            "overflow_y": null,
            "padding": null,
            "right": null,
            "top": null,
            "visibility": null,
            "width": null
          }
        },
        "5d38d6bfa953440cb3170e1cd5fd35d9": {
          "model_module": "@jupyter-widgets/controls",
          "model_name": "SliderStyleModel",
          "model_module_version": "1.5.0",
          "state": {
            "_model_module": "@jupyter-widgets/controls",
            "_model_module_version": "1.5.0",
            "_model_name": "SliderStyleModel",
            "_view_count": null,
            "_view_module": "@jupyter-widgets/base",
            "_view_module_version": "1.2.0",
            "_view_name": "StyleView",
            "description_width": "",
            "handle_color": null
          }
        },
        "fe35e8b23bcb4a98baec16358a59c8b0": {
          "model_module": "@jupyter-widgets/base",
          "model_name": "LayoutModel",
          "model_module_version": "1.2.0",
          "state": {
            "_model_module": "@jupyter-widgets/base",
            "_model_module_version": "1.2.0",
            "_model_name": "LayoutModel",
            "_view_count": null,
            "_view_module": "@jupyter-widgets/base",
            "_view_module_version": "1.2.0",
            "_view_name": "LayoutView",
            "align_content": null,
            "align_items": null,
            "align_self": null,
            "border": null,
            "bottom": null,
            "display": null,
            "flex": null,
            "flex_flow": null,
            "grid_area": null,
            "grid_auto_columns": null,
            "grid_auto_flow": null,
            "grid_auto_rows": null,
            "grid_column": null,
            "grid_gap": null,
            "grid_row": null,
            "grid_template_areas": null,
            "grid_template_columns": null,
            "grid_template_rows": null,
            "height": null,
            "justify_content": null,
            "justify_items": null,
            "left": null,
            "margin": null,
            "max_height": null,
            "max_width": null,
            "min_height": null,
            "min_width": null,
            "object_fit": null,
            "object_position": null,
            "order": null,
            "overflow": null,
            "overflow_x": null,
            "overflow_y": null,
            "padding": null,
            "right": null,
            "top": null,
            "visibility": null,
            "width": null
          }
        }
      }
    }
  },
  "nbformat": 4,
  "nbformat_minor": 0
}